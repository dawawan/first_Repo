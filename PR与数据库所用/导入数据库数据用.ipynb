{
 "cells": [
  {
   "cell_type": "code",
   "execution_count": 15,
   "metadata": {},
   "outputs": [],
   "source": [
    "import pymysql as pms\n",
    "from sqlalchemy import create_engine\n",
    "host ='localhost'\n",
    "user = 'root'\n",
    "port = '3306'\n",
    "password='Oceania1729th$'\n",
    "database ='new_schema'\n",
    "\n",
    "conn = create_engine(f'mysql+pymysql://{user}:{password}@{host}:{port}/{database}')"
   ]
  },
  {
   "cell_type": "code",
   "execution_count": 16,
   "metadata": {},
   "outputs": [
    {
     "name": "stdout",
     "output_type": "stream",
     "text": [
      "        MarketingID  MarketingPlcace  国家 语言8.11            大平台 平台分组  国家顺序  \\\n",
      "0      AftersalesUS     AftersalesUS  US     EN     Aftersales  NaN     1   \n",
      "1               AMZ         AmazonUS  US     EN         Amazon    A     1   \n",
      "2             AMZAU         AmazonAU  AU     EN         Amazon    A     7   \n",
      "3             AMZBR         AmazonBR  BR     EN         Amazon    A     7   \n",
      "4             AMZCA         AmazonCA  CA     EN         Amazon    A     4   \n",
      "5             AMZDE         AmazonDE  DE     DE         Amazon    A     2   \n",
      "6             AMZES         AmazonES  ES     DE         Amazon    A     7   \n",
      "7             AMZFR         AmazonFR  FR     EN         Amazon    A     7   \n",
      "8             AMZIN         AmazonIN  IN     EN         Amazon    A     7   \n",
      "9             AMZIT         AmazonIT  IT     EN         Amazon    A     7   \n",
      "10            AMZJP         AmazonJP  JP     JP         Amazon    A     5   \n",
      "11            AMZMX         AmazonMX  MX     EN         Amazon    A     7   \n",
      "12            AMZNL         AmazonNL  NL     EN         Amazon    A     7   \n",
      "13            AMZPL         AmazonPL  PL     EN         Amazon    A     7   \n",
      "14            AMZSE         AmazonSE  SE     EN         Amazon    A     7   \n",
      "15            AMZTR         AmazonTR  TR     EN         Amazon    A     7   \n",
      "16            AMZUK         AmazonUK  UK     EN         Amazon    A     3   \n",
      "17      CdiscountFR      CdiscountFR  FR     EN      Cdiscount  NaN     7   \n",
      "18           eBayAU           eBayAU  AU     EN           eBay    B     7   \n",
      "19           eBayCA           eBayCA  CA     EN           eBay    B     4   \n",
      "20           eBayDE           eBayDE  DE     DE           eBay    B     2   \n",
      "21           eBayES           eBayES  ES     DE           eBay    B     7   \n",
      "22           eBayFR           eBayFR  FR     EN           eBay    B     7   \n",
      "23           eBayIT           eBayIT  IT     EN           eBay    B     7   \n",
      "24           eBayUK           eBayUK  UK     EN           eBay    B     3   \n",
      "25      HomeDepotUS      HomeDepotUS  US     EN      HomeDepot    C     1   \n",
      "26          HouzzUS          HouzzUS  US     EN          Houzz  NaN     1   \n",
      "27            IDWCA            IDWCA  CA     EN            IDW    A     4   \n",
      "28            IDWDE            IDWDE  DE     DE            IDW    A     2   \n",
      "29            IDWEU            IDWEU  EU     EN            IDW    A     6   \n",
      "30            IDWUK            IDWUK  UK     EN            IDW    A     3   \n",
      "31            IDWUS            IDWUS  US     EN            IDW    A     1   \n",
      "32         JoybuyUS         JoybuyUS  US     EN         Joybuy  NaN     1   \n",
      "33            Lowes            Lowes  es     DE            Low  NaN     7   \n",
      "34            MCDMX        MercadoMX  MX     EN        Mercado  NaN     7   \n",
      "35          Offline          Offline  ne     EN          Offli  NaN     7   \n",
      "36        OfflineCA        OfflineCA  CA     EN        Offline  NaN     4   \n",
      "37          OnBuyUK          OnBuyUK  UK     EN          OnBuy  NaN     3   \n",
      "38           OttoDE           OttoDE  DE     DE           Otto  NaN     2   \n",
      "39      OverstockUS      OverstockUS  US     EN      Overstock    C     1   \n",
      "40        RakutenJP        RakutenJP  JP     JP        Rakuten    A     5   \n",
      "41        RakutenUS        RakutenUS  US     EN        Rakuten    A     1   \n",
      "42           RealDE           RealDE  DE     DE           Real  NaN     2   \n",
      "43               US           eBayUS  US     EN           eBay    B     1   \n",
      "44            WalCA        WalmartCA  CA     EN        Walmart    B     4   \n",
      "45  WalMartSupplier  WalMartSupplier  er     EN  WalMartSuppli  NaN     7   \n",
      "46            WalUS        WalmartUS  US     EN        Walmart    B     1   \n",
      "47        WayfairCA        WayfairCA  CA     EN        Wayfair    C     4   \n",
      "48        WayfairUS        WayfairUS  US     EN        Wayfair    C     1   \n",
      "49           WishUS           WishUS  US     EN           Wish  NaN     1   \n",
      "\n",
      "    市场顺序  \n",
      "0      7  \n",
      "1      1  \n",
      "2      1  \n",
      "3      1  \n",
      "4      1  \n",
      "5      1  \n",
      "6      1  \n",
      "7      1  \n",
      "8      1  \n",
      "9      1  \n",
      "10     1  \n",
      "11     1  \n",
      "12     1  \n",
      "13     1  \n",
      "14     1  \n",
      "15     1  \n",
      "16     1  \n",
      "17     7  \n",
      "18     1  \n",
      "19     1  \n",
      "20     1  \n",
      "21     1  \n",
      "22     1  \n",
      "23     1  \n",
      "24     1  \n",
      "25     1  \n",
      "26     7  \n",
      "27     2  \n",
      "28     2  \n",
      "29     2  \n",
      "30     2  \n",
      "31     2  \n",
      "32     7  \n",
      "33     7  \n",
      "34     7  \n",
      "35     7  \n",
      "36     7  \n",
      "37     7  \n",
      "38     7  \n",
      "39     3  \n",
      "40     7  \n",
      "41     7  \n",
      "42     7  \n",
      "43     1  \n",
      "44     7  \n",
      "45     7  \n",
      "46     7  \n",
      "47     2  \n",
      "48     2  \n",
      "49     7  \n"
     ]
    }
   ],
   "source": [
    "import pandas as pd\n",
    "df_mkt = pd.read_excel('E://DATA/Markets.xlsx')\n",
    "print(df_mkt)"
   ]
  },
  {
   "cell_type": "code",
   "execution_count": 18,
   "metadata": {},
   "outputs": [
    {
     "data": {
      "text/plain": [
       "50"
      ]
     },
     "execution_count": 18,
     "metadata": {},
     "output_type": "execute_result"
    }
   ],
   "source": [
    "df_mkt.to_sql('markets',con=conn)"
   ]
  }
 ],
 "metadata": {
  "kernelspec": {
   "display_name": "Python 3.9.12 ('base')",
   "language": "python",
   "name": "python3"
  },
  "language_info": {
   "codemirror_mode": {
    "name": "ipython",
    "version": 3
   },
   "file_extension": ".py",
   "mimetype": "text/x-python",
   "name": "python",
   "nbconvert_exporter": "python",
   "pygments_lexer": "ipython3",
   "version": "3.9.12"
  },
  "orig_nbformat": 4,
  "vscode": {
   "interpreter": {
    "hash": "88279d2366fe020547cde40dd65aa0e3aa662a6ec1f3ca12d88834876c85e1a6"
   }
  }
 },
 "nbformat": 4,
 "nbformat_minor": 2
}
